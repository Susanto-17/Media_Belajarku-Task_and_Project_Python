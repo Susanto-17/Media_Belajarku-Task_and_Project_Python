{
 "cells": [
  {
   "cell_type": "markdown",
   "metadata": {},
   "source": [
    "# Conditional"
   ]
  },
  {
   "cell_type": "markdown",
   "metadata": {},
   "source": [
    "<li> If Statement</li>\n",
    "<li> If Else Statement</li>\n",
    "<li> Nested Statement / If Else Bersarang</li>\n",
    "<li> Kumpulan Contoh Soal</li>"
   ]
  },
  {
   "cell_type": "markdown",
   "metadata": {},
   "source": [
    "# If Statement"
   ]
  },
  {
   "cell_type": "code",
   "execution_count": 1,
   "metadata": {},
   "outputs": [],
   "source": [
    "bicycle = \"Brompton\""
   ]
  },
  {
   "cell_type": "code",
   "execution_count": 3,
   "metadata": {},
   "outputs": [
    {
     "name": "stdout",
     "output_type": "stream",
     "text": [
      "Bernilai False\n"
     ]
    }
   ],
   "source": [
    "if(bicycle == \"Dahon\"):\n",
    "    print(\"Adalah salah satu brand sepeda :\", bicycle)\n",
    "print(\"Bernilai False\")"
   ]
  },
  {
   "cell_type": "code",
   "execution_count": 7,
   "metadata": {},
   "outputs": [
    {
     "name": "stdout",
     "output_type": "stream",
     "text": [
      "Adalah salah satu brand sepeda :  Brompton\n",
      "Hari kedua Media Belajarku\n"
     ]
    }
   ],
   "source": [
    "if(bicycle == \"Brompton\"):\n",
    "    print(\"Adalah salah satu brand sepeda : \", bicycle)\n",
    "    print(\"Hari kedua Media Belajarku\")"
   ]
  },
  {
   "cell_type": "markdown",
   "metadata": {},
   "source": [
    "# If Else Statement"
   ]
  },
  {
   "cell_type": "code",
   "execution_count": 18,
   "metadata": {},
   "outputs": [],
   "source": [
    "cuaca = \"Hujan\""
   ]
  },
  {
   "cell_type": "code",
   "execution_count": 10,
   "metadata": {},
   "outputs": [
    {
     "name": "stdout",
     "output_type": "stream",
     "text": [
      "waktunya bersepeda\n"
     ]
    }
   ],
   "source": [
    "if(cuaca == \"Berawan\"):\n",
    "    print(\"waktunya bersepeda\")\n",
    "else:\n",
    "    print(\"Dirumah saja\")"
   ]
  },
  {
   "cell_type": "code",
   "execution_count": 16,
   "metadata": {},
   "outputs": [
    {
     "name": "stdout",
     "output_type": "stream",
     "text": [
      "Ke rumah teman\n"
     ]
    }
   ],
   "source": [
    "if(cuaca == \"Mendung\"):\n",
    "    print(\"Waktunya Bersepeda\")\n",
    "elif(cuaca == \"Cerah\"):\n",
    "    print(\"Ke rumah teman\")\n",
    "elif(cuaca == \"Berawan\"):\n",
    "    print(\"Nonton Bioskop\")\n",
    "else:\n",
    "    print(\"Dirumah saja\")"
   ]
  },
  {
   "cell_type": "code",
   "execution_count": 19,
   "metadata": {},
   "outputs": [
    {
     "name": "stdout",
     "output_type": "stream",
     "text": [
      "Waktunya Bersepeda\n"
     ]
    }
   ],
   "source": [
    "if(cuaca == \"Hujan\"):\n",
    "    print(\"Waktunya Bersepeda\")\n",
    "else:\n",
    "    print(\"Dirumah Saja\")"
   ]
  },
  {
   "cell_type": "markdown",
   "metadata": {},
   "source": [
    "# Nested Statement / If Else Bersarang"
   ]
  },
  {
   "cell_type": "code",
   "execution_count": 20,
   "metadata": {},
   "outputs": [],
   "source": [
    "hari = \"Minggu\"\n",
    "cuaca = \"Hujan\"\n",
    "kerja = \"Membuat Program dengan python\"\n",
    "kerja_2 = \"Install Jupiter Notebook\"\n",
    "olahraga = \"Lari\"\n",
    "olahraga_2 = \"Bermain game\""
   ]
  },
  {
   "cell_type": "code",
   "execution_count": 23,
   "metadata": {},
   "outputs": [
    {
     "name": "stdout",
     "output_type": "stream",
     "text": [
      "Waktu kerja\n",
      "Install Jupiter Notebook\n"
     ]
    }
   ],
   "source": [
    "if(hari == \"Minggu\"):\n",
    "    print(\"Waktu kerja\")\n",
    "    if(hari == \"Senin\"):\n",
    "        print(kerja)\n",
    "    else:\n",
    "        print(kerja_2)\n",
    "else:\n",
    "    if(cuaca == \"Cerah\"):\n",
    "        print(\"Waktunya \", olahraga)\n",
    "    else:\n",
    "        print(\"Waktunya \", olahraga_2)"
   ]
  },
  {
   "cell_type": "markdown",
   "metadata": {},
   "source": [
    "# Kumpulan Contoh Soal"
   ]
  },
  {
   "cell_type": "markdown",
   "metadata": {},
   "source": [
    "# Menentukan Bilangan Positif atau Negatif"
   ]
  },
  {
   "cell_type": "code",
   "execution_count": 24,
   "metadata": {},
   "outputs": [
    {
     "name": "stdout",
     "output_type": "stream",
     "text": [
      "Masukkan Bilangan : 3\n",
      "Bilangan Positif\n",
      "--------------------\n",
      "Bilangan Positif\n"
     ]
    }
   ],
   "source": [
    "bilangan = int(input(\"Masukkan Bilangan : \"))\n",
    "if(bilangan > 0):\n",
    "    print(\"Bilangan Positif\")\n",
    "elif(bilangan == 0):\n",
    "    print(\"Bilangan Nol\")\n",
    "else:\n",
    "    print(\"Bilangan Negatif\")\n",
    "    \n",
    "print(\"-\"*20)\n",
    "\n",
    "if(bilangan == 0):\n",
    "    print(\"Bilangan Normal\")\n",
    "elif(bilangan > 0):\n",
    "    print(\"Bilangan Positif\")\n",
    "else:\n",
    "    print(\"Bilangan Negatif\")"
   ]
  },
  {
   "cell_type": "code",
   "execution_count": 26,
   "metadata": {},
   "outputs": [
    {
     "name": "stdout",
     "output_type": "stream",
     "text": [
      "Bilangan Positif\n"
     ]
    }
   ],
   "source": [
    "bilangan_2 = 0\n",
    "if(bilangan_2 >= 0):\n",
    "    print(\"Bilangan Positif\")\n",
    "else:\n",
    "    print(\"Bilangan Negatif\")"
   ]
  },
  {
   "cell_type": "markdown",
   "metadata": {},
   "source": [
    "# Menentukan Bilangan Ganjil atau Genap"
   ]
  },
  {
   "cell_type": "code",
   "execution_count": 29,
   "metadata": {},
   "outputs": [
    {
     "name": "stdout",
     "output_type": "stream",
     "text": [
      "Input Sebuah Bilangan : 3\n",
      "3  Adalah Bilangan Ganjil\n"
     ]
    }
   ],
   "source": [
    "bilangan = int(input(\"Input Sebuah Bilangan : \"))\n",
    "\n",
    "if(bilangan < 0):\n",
    "    print(\"Bilangan Negatif\")\n",
    "else:    \n",
    "    if(int(bilangan) % 2 == 0):\n",
    "        print(bilangan, \" Adalah Bilangan Genap\")\n",
    "    else:\n",
    "        print(bilangan, \" Adalah Bilangan Ganjil\")\n"
   ]
  },
  {
   "cell_type": "markdown",
   "metadata": {},
   "source": [
    "##### Kuis"
   ]
  },
  {
   "cell_type": "markdown",
   "metadata": {},
   "source": [
    "# 1. Membuat Grade Nilai\n",
    "### Grade A jika nilai > 90\n",
    "### Grade B jika nilai > 80 and <= 90                       \n",
    "### Grade C jika nilai >= 60 and <= 80                       \n",
    "### Grade D jika nilai below 60                                  "
   ]
  },
  {
   "cell_type": "markdown",
   "metadata": {},
   "source": [
    "<pre>\n",
    "\n",
    "</pre>"
   ]
  },
  {
   "cell_type": "markdown",
   "metadata": {},
   "source": [
    "# Membuat Program Fizz Buzz"
   ]
  },
  {
   "cell_type": "markdown",
   "metadata": {},
   "source": [
    "### Jika Kelipatan 3 print \"Fizz\"\n",
    "### Jika Kelipatan 5 print \"Buzz\"\n",
    "### Jika  Kelipatan 3 dan 5 print \"Fizz Buzz\""
   ]
  },
  {
   "cell_type": "code",
   "execution_count": 37,
   "metadata": {},
   "outputs": [
    {
     "name": "stdout",
     "output_type": "stream",
     "text": [
      "Masukkan Nilai :90\n",
      "Grade B\n"
     ]
    }
   ],
   "source": [
    "bil = int(input(\"Masukkan Nilai :\"))\n",
    "\n",
    "if bil > 90:\n",
    "    print(\"Grade A\")\n",
    "elif bil > 80 and bil <= 90:\n",
    "    print(\"Grade B\")\n",
    "elif bil >= 60 and bil <= 80:\n",
    "    print(\"Grade C\")\n",
    "elif bil < 60:\n",
    "    print(\"Grade D\")"
   ]
  },
  {
   "cell_type": "code",
   "execution_count": null,
   "metadata": {},
   "outputs": [],
   "source": []
  }
 ],
 "metadata": {
  "kernelspec": {
   "display_name": "Python 3",
   "language": "python",
   "name": "python3"
  },
  "language_info": {
   "codemirror_mode": {
    "name": "ipython",
    "version": 3
   },
   "file_extension": ".py",
   "mimetype": "text/x-python",
   "name": "python",
   "nbconvert_exporter": "python",
   "pygments_lexer": "ipython3",
   "version": "3.8.10"
  }
 },
 "nbformat": 4,
 "nbformat_minor": 4
}
