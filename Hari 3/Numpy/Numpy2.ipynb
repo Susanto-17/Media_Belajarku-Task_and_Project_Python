{
 "cells": [
  {
   "cell_type": "code",
   "execution_count": 1,
   "id": "61dc8d06",
   "metadata": {},
   "outputs": [],
   "source": [
    "# !pip install numpy"
   ]
  },
  {
   "cell_type": "code",
   "execution_count": 2,
   "id": "0ca1da62",
   "metadata": {},
   "outputs": [],
   "source": [
    "import numpy as np"
   ]
  },
  {
   "cell_type": "code",
   "execution_count": 3,
   "id": "46256db3",
   "metadata": {},
   "outputs": [],
   "source": [
    "list_angka = [5, 4, 9, 12, 20]\n",
    "array_list = np.array(list_angka)"
   ]
  },
  {
   "cell_type": "code",
   "execution_count": 4,
   "id": "ca4249a5",
   "metadata": {},
   "outputs": [
    {
     "data": {
      "text/plain": [
       "numpy.ndarray"
      ]
     },
     "execution_count": 4,
     "metadata": {},
     "output_type": "execute_result"
    }
   ],
   "source": [
    "type(array_list)"
   ]
  },
  {
   "cell_type": "code",
   "execution_count": 5,
   "id": "2b268cb8",
   "metadata": {},
   "outputs": [
    {
     "name": "stdout",
     "output_type": "stream",
     "text": [
      "[ 5  4  9 12 20]\n"
     ]
    }
   ],
   "source": [
    "print(array_list)"
   ]
  },
  {
   "cell_type": "code",
   "execution_count": 6,
   "id": "540e4c58",
   "metadata": {},
   "outputs": [
    {
     "name": "stdout",
     "output_type": "stream",
     "text": [
      "[[1 3 5]\n",
      " [4 5 6]\n",
      " [7 8 9]]\n"
     ]
    }
   ],
   "source": [
    "baris1 = [1, 3, 5]\n",
    "baris2 = [4, 5, 6]\n",
    "baris3 = [7, 8, 9]\n",
    "\n",
    "arr_2d = np.array([baris1, baris2, baris3])\n",
    "print(arr_2d)"
   ]
  },
  {
   "cell_type": "code",
   "execution_count": 7,
   "id": "22a41b80",
   "metadata": {},
   "outputs": [
    {
     "data": {
      "text/plain": [
       "(3, 3)"
      ]
     },
     "execution_count": 7,
     "metadata": {},
     "output_type": "execute_result"
    }
   ],
   "source": [
    "arr_2d.shape"
   ]
  },
  {
   "cell_type": "code",
   "execution_count": 9,
   "id": "7c333a52",
   "metadata": {},
   "outputs": [
    {
     "name": "stdout",
     "output_type": "stream",
     "text": [
      "[1 2 3 4 5 6 7]\n"
     ]
    }
   ],
   "source": [
    "arr_2d_2 = np.arange(1, 8)\n",
    "\n",
    "print(arr_2d_2)"
   ]
  },
  {
   "cell_type": "code",
   "execution_count": 10,
   "id": "a34794c0",
   "metadata": {},
   "outputs": [
    {
     "name": "stdout",
     "output_type": "stream",
     "text": [
      "[4 6 8]\n"
     ]
    }
   ],
   "source": [
    "arr_2d_3 = np.arange(4, 10, 2)\n",
    "\n",
    "print(arr_2d_3)"
   ]
  },
  {
   "cell_type": "code",
   "execution_count": 13,
   "id": "36016dd6",
   "metadata": {},
   "outputs": [
    {
     "name": "stdout",
     "output_type": "stream",
     "text": [
      "[10  9  8  7  6]\n"
     ]
    }
   ],
   "source": [
    "arr_2d_4 = np.arange(10, 5, -1)\n",
    "\n",
    "print(arr_2d_4)"
   ]
  },
  {
   "cell_type": "code",
   "execution_count": 14,
   "id": "d1933f4d",
   "metadata": {},
   "outputs": [
    {
     "name": "stdout",
     "output_type": "stream",
     "text": [
      "[1. 1. 1.]\n"
     ]
    }
   ],
   "source": [
    "ones_array = np.ones(3)\n",
    "\n",
    "print(ones_array)"
   ]
  },
  {
   "cell_type": "code",
   "execution_count": 15,
   "id": "cd36c925",
   "metadata": {},
   "outputs": [
    {
     "name": "stdout",
     "output_type": "stream",
     "text": [
      "[[1. 1.]\n",
      " [1. 1.]\n",
      " [1. 1.]]\n"
     ]
    }
   ],
   "source": [
    "ones_2d = np.ones((3,2))\n",
    "\n",
    "print(ones_2d)"
   ]
  },
  {
   "cell_type": "code",
   "execution_count": 16,
   "id": "ab507105",
   "metadata": {},
   "outputs": [
    {
     "name": "stdout",
     "output_type": "stream",
     "text": [
      "[0. 0. 0.]\n"
     ]
    }
   ],
   "source": [
    "zeros_array = np.zeros(3)\n",
    "\n",
    "print(zeros_array)"
   ]
  },
  {
   "cell_type": "code",
   "execution_count": 17,
   "id": "11a03069",
   "metadata": {},
   "outputs": [
    {
     "name": "stdout",
     "output_type": "stream",
     "text": [
      "[[0. 0.]\n",
      " [0. 0.]\n",
      " [0. 0.]]\n"
     ]
    }
   ],
   "source": [
    "zeros_2d = np.zeros((3,2))\n",
    "\n",
    "print(zeros_2d)"
   ]
  },
  {
   "cell_type": "code",
   "execution_count": 18,
   "id": "fa9289ef",
   "metadata": {},
   "outputs": [
    {
     "name": "stdout",
     "output_type": "stream",
     "text": [
      "[[1. 0. 0.]\n",
      " [0. 1. 0.]\n",
      " [0. 0. 1.]]\n"
     ]
    }
   ],
   "source": [
    "eye_array = np.eye(3)\n",
    "\n",
    "print(eye_array)"
   ]
  },
  {
   "cell_type": "code",
   "execution_count": 19,
   "id": "57945c21",
   "metadata": {},
   "outputs": [
    {
     "name": "stdout",
     "output_type": "stream",
     "text": [
      "[[1. 0. 0. 0. 0.]\n",
      " [0. 1. 0. 0. 0.]\n",
      " [0. 0. 1. 0. 0.]\n",
      " [0. 0. 0. 1. 0.]\n",
      " [0. 0. 0. 0. 1.]]\n"
     ]
    }
   ],
   "source": [
    "eye_array = np.eye(5)\n",
    "\n",
    "print(eye_array)"
   ]
  },
  {
   "cell_type": "code",
   "execution_count": 20,
   "id": "9570871d",
   "metadata": {},
   "outputs": [
    {
     "name": "stdout",
     "output_type": "stream",
     "text": [
      "[[0.74409834 0.75954622 0.20826185]\n",
      " [0.60342717 0.99672876 0.51848984]]\n"
     ]
    }
   ],
   "source": [
    "random_array = np.random.rand(2, 3)\n",
    "\n",
    "print(random_array)"
   ]
  },
  {
   "cell_type": "code",
   "execution_count": 21,
   "id": "7821d362",
   "metadata": {},
   "outputs": [
    {
     "name": "stdout",
     "output_type": "stream",
     "text": [
      "[[-1.04262772  1.30872394  0.90344579]\n",
      " [ 0.16710077  1.13663397  0.1280985 ]]\n"
     ]
    }
   ],
   "source": [
    "random_ar2 = np.random.randn(2, 3)\n",
    "\n",
    "print(random_ar2)"
   ]
  },
  {
   "cell_type": "code",
   "execution_count": 23,
   "id": "33e7e832",
   "metadata": {},
   "outputs": [
    {
     "name": "stdout",
     "output_type": "stream",
     "text": [
      "[2 8 7 2]\n"
     ]
    }
   ],
   "source": [
    "random_ar3 = np.random.randint(2, 10, 4)\n",
    "\n",
    "print(random_ar3)"
   ]
  },
  {
   "cell_type": "markdown",
   "id": "035fd9d7",
   "metadata": {},
   "source": [
    "# Reshaping Array"
   ]
  },
  {
   "cell_type": "code",
   "execution_count": 24,
   "id": "3037f8a0",
   "metadata": {},
   "outputs": [
    {
     "name": "stdout",
     "output_type": "stream",
     "text": [
      "[[0.87199262 0.24296187 0.41655633 0.10616679]\n",
      " [0.88317983 0.95899546 0.42890005 0.63229452]\n",
      " [0.92134945 0.2460307  0.8681495  0.11411164]]\n"
     ]
    }
   ],
   "source": [
    "nil_random = np.random.rand(3, 4)\n",
    "print(nil_random)"
   ]
  },
  {
   "cell_type": "code",
   "execution_count": 25,
   "id": "bd7c2e54",
   "metadata": {},
   "outputs": [
    {
     "name": "stdout",
     "output_type": "stream",
     "text": [
      "[[0.87199262 0.24296187 0.41655633 0.10616679 0.88317983 0.95899546]\n",
      " [0.42890005 0.63229452 0.92134945 0.2460307  0.8681495  0.11411164]]\n"
     ]
    }
   ],
   "source": [
    "nil_random = nil_random.reshape(2, 6)\n",
    "\n",
    "print(nil_random)"
   ]
  },
  {
   "cell_type": "code",
   "execution_count": 26,
   "id": "3427391a",
   "metadata": {},
   "outputs": [
    {
     "name": "stdout",
     "output_type": "stream",
     "text": [
      "[[0.87199262 0.24296187]\n",
      " [0.41655633 0.10616679]\n",
      " [0.88317983 0.95899546]\n",
      " [0.42890005 0.63229452]\n",
      " [0.92134945 0.2460307 ]\n",
      " [0.8681495  0.11411164]]\n"
     ]
    }
   ],
   "source": [
    "nil_random2 = nil_random.reshape(6, 2)\n",
    "\n",
    "print(nil_random2)"
   ]
  },
  {
   "cell_type": "code",
   "execution_count": 27,
   "id": "e86480e5",
   "metadata": {},
   "outputs": [
    {
     "name": "stdout",
     "output_type": "stream",
     "text": [
      "[1 2 3 4 5 6 7 8 9]\n"
     ]
    }
   ],
   "source": [
    "nil = np.arange(1, 10)\n",
    "\n",
    "print(nil)"
   ]
  },
  {
   "cell_type": "code",
   "execution_count": 28,
   "id": "f7f3c7f1",
   "metadata": {},
   "outputs": [
    {
     "name": "stdout",
     "output_type": "stream",
     "text": [
      "4\n"
     ]
    }
   ],
   "source": [
    "print(nil[3])"
   ]
  },
  {
   "cell_type": "code",
   "execution_count": 29,
   "id": "3acdcffd",
   "metadata": {},
   "outputs": [
    {
     "name": "stdout",
     "output_type": "stream",
     "text": [
      "[7 8 9]\n"
     ]
    }
   ],
   "source": [
    "print(nil[6:9])"
   ]
  },
  {
   "cell_type": "code",
   "execution_count": 30,
   "id": "4f3b942a",
   "metadata": {},
   "outputs": [
    {
     "name": "stdout",
     "output_type": "stream",
     "text": [
      "[4 5 6 7 8 9]\n"
     ]
    }
   ],
   "source": [
    "print(nil[3:])"
   ]
  },
  {
   "cell_type": "code",
   "execution_count": 31,
   "id": "0909db2a",
   "metadata": {},
   "outputs": [
    {
     "name": "stdout",
     "output_type": "stream",
     "text": [
      "[1 2 3 4 5]\n"
     ]
    }
   ],
   "source": [
    "print(nil[:5])"
   ]
  },
  {
   "cell_type": "markdown",
   "id": "87313962",
   "metadata": {},
   "source": [
    "# Aritmatik"
   ]
  },
  {
   "cell_type": "code",
   "execution_count": 33,
   "id": "f0f5a670",
   "metadata": {},
   "outputs": [
    {
     "name": "stdout",
     "output_type": "stream",
     "text": [
      "[2. 2.]\n"
     ]
    }
   ],
   "source": [
    "nil = [4, 4]\n",
    "nil_square = np.sqrt(nil)\n",
    "\n",
    "print(nil_square)"
   ]
  },
  {
   "cell_type": "code",
   "execution_count": 34,
   "id": "36ba1732",
   "metadata": {},
   "outputs": [
    {
     "name": "stdout",
     "output_type": "stream",
     "text": [
      "[2.30258509 2.99573227 3.91202301 4.60517019]\n"
     ]
    }
   ],
   "source": [
    "nil2 = [10, 20, 50, 100]\n",
    "nil_log = np.log(nil2)\n",
    "\n",
    "print(nil_log)"
   ]
  },
  {
   "cell_type": "code",
   "execution_count": 35,
   "id": "b4ef9901",
   "metadata": {},
   "outputs": [
    {
     "name": "stdout",
     "output_type": "stream",
     "text": [
      "[ 2.71828183 20.08553692 54.59815003]\n"
     ]
    }
   ],
   "source": [
    "nil3 = [1, 3, 4]\n",
    "nil_exp = np.exp(nil3)\n",
    "\n",
    "print(nil_exp)"
   ]
  },
  {
   "cell_type": "code",
   "execution_count": 37,
   "id": "fa146f7e",
   "metadata": {},
   "outputs": [
    {
     "name": "stdout",
     "output_type": "stream",
     "text": [
      "[-0.98803162  0.85090352 -0.30481062  0.89399666]\n"
     ]
    }
   ],
   "source": [
    "nil4 = [30, 45, 60, 90]\n",
    "np_sin = np.sin(nil4)\n",
    "\n",
    "print(np_sin)"
   ]
  },
  {
   "cell_type": "code",
   "execution_count": 38,
   "id": "74378188",
   "metadata": {},
   "outputs": [
    {
     "name": "stdout",
     "output_type": "stream",
     "text": [
      "[ 0.15425145  0.52532199 -0.95241298 -0.44807362]\n"
     ]
    }
   ],
   "source": [
    "np_cos = np.cos(nil4)\n",
    "\n",
    "print(np_cos)"
   ]
  },
  {
   "cell_type": "markdown",
   "id": "bb6938d3",
   "metadata": {},
   "source": [
    "# Linear Algebra"
   ]
  },
  {
   "cell_type": "code",
   "execution_count": 39,
   "id": "b1c86cf8",
   "metadata": {},
   "outputs": [],
   "source": [
    "A = np.random.randn(2,3)\n",
    "B = np.random.randn(3,2)"
   ]
  },
  {
   "cell_type": "code",
   "execution_count": 41,
   "id": "cb4eef01",
   "metadata": {},
   "outputs": [
    {
     "name": "stdout",
     "output_type": "stream",
     "text": [
      "[[-0.56857714 -0.92186898 -0.01698934]\n",
      " [ 2.89860726  1.13565601 -0.08665939]]\n",
      "------------------\n",
      "[[ 0.1617186  -0.28762961]\n",
      " [-0.80917908 -0.01060797]\n",
      " [-2.21996351 -0.43601532]]\n"
     ]
    }
   ],
   "source": [
    "print(A)\n",
    "print(\"------------------\")\n",
    "print(B)"
   ]
  },
  {
   "cell_type": "code",
   "execution_count": 42,
   "id": "d8060f44",
   "metadata": {},
   "outputs": [
    {
     "name": "stdout",
     "output_type": "stream",
     "text": [
      "[[ 0.6917233   0.18072639]\n",
      " [-0.25780968 -0.80798746]]\n"
     ]
    }
   ],
   "source": [
    "hsl_kali = np.dot(A,B)\n",
    "\n",
    "print(hsl_kali)"
   ]
  },
  {
   "cell_type": "code",
   "execution_count": 43,
   "id": "e13d4e5c",
   "metadata": {},
   "outputs": [
    {
     "name": "stdout",
     "output_type": "stream",
     "text": [
      "[[-0.92567477 -0.47573166  0.02217831]\n",
      " [ 0.42933237  0.73391008  0.0146667 ]\n",
      " [-0.00161666  1.55135209  0.07550053]]\n"
     ]
    }
   ],
   "source": [
    "hsl_kali2 = np.dot(B,A)\n",
    "\n",
    "print(hsl_kali2)"
   ]
  },
  {
   "cell_type": "code",
   "execution_count": 44,
   "id": "e06994ef",
   "metadata": {},
   "outputs": [
    {
     "name": "stdout",
     "output_type": "stream",
     "text": [
      "[[ 1  4  9]\n",
      " [16 25 36]\n",
      " [49 64 81]]\n"
     ]
    }
   ],
   "source": [
    "baris1 = [1, 2, 3]\n",
    "baris2 = [4, 5, 6]\n",
    "baris3 = [7, 8, 9]\n",
    "\n",
    "ar_2d = np.array([baris1, baris2, baris3])\n",
    "multiply = np.multiply(ar_2d, ar_2d)\n",
    "\n",
    "print(multiply)"
   ]
  },
  {
   "cell_type": "code",
   "execution_count": 45,
   "id": "381cb84d",
   "metadata": {},
   "outputs": [
    {
     "name": "stdout",
     "output_type": "stream",
     "text": [
      "[[-2.   1. ]\n",
      " [ 1.5 -0.5]]\n"
     ]
    }
   ],
   "source": [
    "baris1 = [1, 2]\n",
    "baris2 = [3, 4]\n",
    "\n",
    "ar_2d_2 = np.array([baris1, baris2])\n",
    "inverse = np.linalg.inv(ar_2d_2)\n",
    "\n",
    "print(inverse)"
   ]
  },
  {
   "cell_type": "code",
   "execution_count": 49,
   "id": "a188515e",
   "metadata": {},
   "outputs": [
    {
     "name": "stdout",
     "output_type": "stream",
     "text": [
      "1.5777218104420312e-29\n"
     ]
    }
   ],
   "source": [
    "baris1 = [1, 2, 3, 4]\n",
    "baris2 = [4, 5, 6, 7]\n",
    "baris3 = [7, 8, 9, 10]\n",
    "baris4 = [11, 12, 13, 14]\n",
    "\n",
    "ar_2d_3 = np.array([baris1, baris2, baris3, baris4])\n",
    "determinan = np.linalg.det(ar_2d_3)\n",
    "\n",
    "print(determinan)"
   ]
  },
  {
   "cell_type": "code",
   "execution_count": 50,
   "id": "a34ea112",
   "metadata": {},
   "outputs": [],
   "source": [
    "trace = np.trace(ar_2d_3)"
   ]
  },
  {
   "cell_type": "code",
   "execution_count": 51,
   "id": "c52580f0",
   "metadata": {},
   "outputs": [
    {
     "name": "stdout",
     "output_type": "stream",
     "text": [
      "29\n"
     ]
    }
   ],
   "source": [
    "print(trace)"
   ]
  },
  {
   "cell_type": "code",
   "execution_count": null,
   "id": "96f6c8fc",
   "metadata": {},
   "outputs": [],
   "source": []
  }
 ],
 "metadata": {
  "kernelspec": {
   "display_name": "Python 3",
   "language": "python",
   "name": "python3"
  },
  "language_info": {
   "codemirror_mode": {
    "name": "ipython",
    "version": 3
   },
   "file_extension": ".py",
   "mimetype": "text/x-python",
   "name": "python",
   "nbconvert_exporter": "python",
   "pygments_lexer": "ipython3",
   "version": "3.8.10"
  }
 },
 "nbformat": 4,
 "nbformat_minor": 5
}
