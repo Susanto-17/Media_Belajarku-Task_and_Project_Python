{
 "cells": [
  {
   "cell_type": "markdown",
   "id": "a5b65d26",
   "metadata": {},
   "source": [
    "## Pertemuan 1"
   ]
  },
  {
   "cell_type": "code",
   "execution_count": 1,
   "id": "cbbe297c",
   "metadata": {},
   "outputs": [
    {
     "name": "stdout",
     "output_type": "stream",
     "text": [
      "5\n"
     ]
    }
   ],
   "source": [
    "print(5)"
   ]
  },
  {
   "cell_type": "code",
   "execution_count": 2,
   "id": "97dad74a",
   "metadata": {},
   "outputs": [
    {
     "name": "stdout",
     "output_type": "stream",
     "text": [
      "10.5\n"
     ]
    }
   ],
   "source": [
    "print(10.5)"
   ]
  },
  {
   "cell_type": "code",
   "execution_count": 3,
   "id": "88304a0c",
   "metadata": {},
   "outputs": [
    {
     "name": "stdout",
     "output_type": "stream",
     "text": [
      "Pengenalan Python\n"
     ]
    }
   ],
   "source": [
    "print(\"Pengenalan Python\")"
   ]
  },
  {
   "cell_type": "code",
   "execution_count": 4,
   "id": "3bb3ab2a",
   "metadata": {},
   "outputs": [
    {
     "name": "stdout",
     "output_type": "stream",
     "text": [
      "Input angka5\n"
     ]
    },
    {
     "data": {
      "text/plain": [
       "'5'"
      ]
     },
     "execution_count": 4,
     "metadata": {},
     "output_type": "execute_result"
    }
   ],
   "source": [
    "input(\"Input angka\")"
   ]
  },
  {
   "cell_type": "code",
   "execution_count": 5,
   "id": "2a4bdc76",
   "metadata": {},
   "outputs": [
    {
     "name": "stdout",
     "output_type": "stream",
     "text": [
      "Input angka : 5\n"
     ]
    }
   ],
   "source": [
    "nilai = input(\"Input angka : \")"
   ]
  },
  {
   "cell_type": "code",
   "execution_count": 6,
   "id": "7d61b971",
   "metadata": {},
   "outputs": [
    {
     "name": "stdout",
     "output_type": "stream",
     "text": [
      "5\n"
     ]
    }
   ],
   "source": [
    "print(nilai)"
   ]
  },
  {
   "cell_type": "code",
   "execution_count": 7,
   "id": "1c745e3f",
   "metadata": {},
   "outputs": [],
   "source": [
    "nilai2 = 7"
   ]
  },
  {
   "cell_type": "code",
   "execution_count": 8,
   "id": "e9a4a045",
   "metadata": {},
   "outputs": [
    {
     "name": "stdout",
     "output_type": "stream",
     "text": [
      "7\n"
     ]
    }
   ],
   "source": [
    "print(nilai2)"
   ]
  },
  {
   "cell_type": "code",
   "execution_count": 9,
   "id": "5c322d2e",
   "metadata": {},
   "outputs": [
    {
     "name": "stdout",
     "output_type": "stream",
     "text": [
      "5\n"
     ]
    }
   ],
   "source": [
    "nilai3 = 5\n",
    "print(nilai3)"
   ]
  },
  {
   "cell_type": "code",
   "execution_count": 10,
   "id": "fcea2826",
   "metadata": {},
   "outputs": [
    {
     "data": {
      "text/plain": [
       "int"
      ]
     },
     "execution_count": 10,
     "metadata": {},
     "output_type": "execute_result"
    }
   ],
   "source": [
    "type(nilai3)"
   ]
  },
  {
   "cell_type": "code",
   "execution_count": 11,
   "id": "1fdfe0da",
   "metadata": {},
   "outputs": [
    {
     "data": {
      "text/plain": [
       "str"
      ]
     },
     "execution_count": 11,
     "metadata": {},
     "output_type": "execute_result"
    }
   ],
   "source": [
    "type(nilai)"
   ]
  },
  {
   "cell_type": "code",
   "execution_count": 12,
   "id": "1b14c32c",
   "metadata": {},
   "outputs": [
    {
     "name": "stdout",
     "output_type": "stream",
     "text": [
      "5\n"
     ]
    }
   ],
   "source": [
    "print(int(nilai))"
   ]
  },
  {
   "cell_type": "code",
   "execution_count": 13,
   "id": "a3b27051",
   "metadata": {},
   "outputs": [
    {
     "data": {
      "text/plain": [
       "int"
      ]
     },
     "execution_count": 13,
     "metadata": {},
     "output_type": "execute_result"
    }
   ],
   "source": [
    "type(int(nilai))"
   ]
  },
  {
   "cell_type": "code",
   "execution_count": 14,
   "id": "0e0c8b3f",
   "metadata": {},
   "outputs": [
    {
     "ename": "SyntaxError",
     "evalue": "invalid syntax (<ipython-input-14-91dda77c8f5d>, line 1)",
     "output_type": "error",
     "traceback": [
      "\u001b[1;36m  File \u001b[1;32m\"<ipython-input-14-91dda77c8f5d>\"\u001b[1;36m, line \u001b[1;32m1\u001b[0m\n\u001b[1;33m    1nilai = 30\u001b[0m\n\u001b[1;37m     ^\u001b[0m\n\u001b[1;31mSyntaxError\u001b[0m\u001b[1;31m:\u001b[0m invalid syntax\n"
     ]
    }
   ],
   "source": [
    "nilai = 30"
   ]
  },
  {
   "cell_type": "code",
   "execution_count": 15,
   "id": "a8c2e7a6",
   "metadata": {},
   "outputs": [
    {
     "name": "stdout",
     "output_type": "stream",
     "text": [
      "Jumlah :  12\n"
     ]
    }
   ],
   "source": [
    "jumlah = nilai2 + nilai3\n",
    "print(\"Jumlah : \", jumlah)"
   ]
  },
  {
   "cell_type": "code",
   "execution_count": 17,
   "id": "6116ab6f",
   "metadata": {},
   "outputs": [
    {
     "name": "stdout",
     "output_type": "stream",
     "text": [
      "Hasil :  -8\n"
     ]
    }
   ],
   "source": [
    "hasil = jumlah - 20\n",
    "print(\"Hasil : \", hasil)"
   ]
  },
  {
   "cell_type": "code",
   "execution_count": 18,
   "id": "1b1ab6fb",
   "metadata": {},
   "outputs": [
    {
     "data": {
      "text/plain": [
       "int"
      ]
     },
     "execution_count": 18,
     "metadata": {},
     "output_type": "execute_result"
    }
   ],
   "source": [
    "type(hasil)"
   ]
  },
  {
   "cell_type": "code",
   "execution_count": 19,
   "id": "b395e285",
   "metadata": {},
   "outputs": [
    {
     "data": {
      "text/plain": [
       "float"
      ]
     },
     "execution_count": 19,
     "metadata": {},
     "output_type": "execute_result"
    }
   ],
   "source": [
    "decimal1 = 10.0\n",
    "type(decimal1)"
   ]
  },
  {
   "cell_type": "code",
   "execution_count": 21,
   "id": "f558275e",
   "metadata": {},
   "outputs": [
    {
     "data": {
      "text/plain": [
       "float"
      ]
     },
     "execution_count": 21,
     "metadata": {},
     "output_type": "execute_result"
    }
   ],
   "source": [
    "total = decimal1 + 10\n",
    "type(total)"
   ]
  },
  {
   "cell_type": "code",
   "execution_count": 22,
   "id": "df723f5b",
   "metadata": {},
   "outputs": [
    {
     "name": "stdout",
     "output_type": "stream",
     "text": [
      "20.0\n"
     ]
    }
   ],
   "source": [
    "print(total)"
   ]
  },
  {
   "cell_type": "code",
   "execution_count": 24,
   "id": "dbc70bad",
   "metadata": {},
   "outputs": [
    {
     "data": {
      "text/plain": [
       "str"
      ]
     },
     "execution_count": 24,
     "metadata": {},
     "output_type": "execute_result"
    }
   ],
   "source": [
    "karakter = \"A\"\n",
    "type(karakter)"
   ]
  },
  {
   "cell_type": "code",
   "execution_count": 26,
   "id": "577bf09a",
   "metadata": {},
   "outputs": [
    {
     "data": {
      "text/plain": [
       "str"
      ]
     },
     "execution_count": 26,
     "metadata": {},
     "output_type": "execute_result"
    }
   ],
   "source": [
    "karakter2 = 'A'\n",
    "type(karakter2)"
   ]
  },
  {
   "cell_type": "code",
   "execution_count": 27,
   "id": "0e8e5260",
   "metadata": {},
   "outputs": [
    {
     "name": "stdout",
     "output_type": "stream",
     "text": [
      "M\n"
     ]
    }
   ],
   "source": [
    "karakter = \"Media Belajarku\"\n",
    "print(karakter[0])"
   ]
  },
  {
   "cell_type": "code",
   "execution_count": 30,
   "id": "ba02ad4f",
   "metadata": {},
   "outputs": [
    {
     "name": "stdout",
     "output_type": "stream",
     "text": [
      "dia\n"
     ]
    }
   ],
   "source": [
    "print(karakter[2:5])"
   ]
  },
  {
   "cell_type": "code",
   "execution_count": 31,
   "id": "410ab764",
   "metadata": {},
   "outputs": [],
   "source": [
    "flag = True\n",
    "flag2 = False"
   ]
  },
  {
   "cell_type": "code",
   "execution_count": 32,
   "id": "e18cc9d1",
   "metadata": {},
   "outputs": [
    {
     "data": {
      "text/plain": [
       "bool"
      ]
     },
     "execution_count": 32,
     "metadata": {},
     "output_type": "execute_result"
    }
   ],
   "source": [
    "type(flag)"
   ]
  },
  {
   "cell_type": "code",
   "execution_count": 33,
   "id": "43b30c08",
   "metadata": {},
   "outputs": [
    {
     "data": {
      "text/plain": [
       "bool"
      ]
     },
     "execution_count": 33,
     "metadata": {},
     "output_type": "execute_result"
    }
   ],
   "source": [
    "type(flag2)"
   ]
  },
  {
   "cell_type": "code",
   "execution_count": 35,
   "id": "7e942a44",
   "metadata": {},
   "outputs": [
    {
     "name": "stdout",
     "output_type": "stream",
     "text": [
      "['andi', 'budi', 'ika']\n"
     ]
    }
   ],
   "source": [
    "list_nama = [\"andi\", \"budi\", \"ika\"]\n",
    "print(list_nama)"
   ]
  },
  {
   "cell_type": "code",
   "execution_count": 45,
   "id": "8a31273a",
   "metadata": {},
   "outputs": [
    {
     "name": "stdout",
     "output_type": "stream",
     "text": [
      "['andi', 'budi', 'ika']\n"
     ]
    }
   ],
   "source": [
    "print(list_nama[0:4])"
   ]
  },
  {
   "cell_type": "code",
   "execution_count": 40,
   "id": "6746c6dc",
   "metadata": {},
   "outputs": [
    {
     "data": {
      "text/plain": [
       "list"
      ]
     },
     "execution_count": 40,
     "metadata": {},
     "output_type": "execute_result"
    }
   ],
   "source": [
    "type(list_nama)"
   ]
  },
  {
   "cell_type": "code",
   "execution_count": 46,
   "id": "248b93cf",
   "metadata": {},
   "outputs": [
    {
     "name": "stdout",
     "output_type": "stream",
     "text": [
      "Media   Belajar\n"
     ]
    }
   ],
   "source": [
    "print(\"Media   Belajar\")"
   ]
  },
  {
   "cell_type": "code",
   "execution_count": 47,
   "id": "27824a6d",
   "metadata": {},
   "outputs": [
    {
     "name": "stdout",
     "output_type": "stream",
     "text": [
      "('andi', 'budi', 'ika')\n"
     ]
    }
   ],
   "source": [
    "tuple_nama = (\"andi\", \"budi\", \"ika\")\n",
    "print(tuple_nama)"
   ]
  },
  {
   "cell_type": "code",
   "execution_count": 48,
   "id": "e7ce0ce0",
   "metadata": {},
   "outputs": [
    {
     "data": {
      "text/plain": [
       "tuple"
      ]
     },
     "execution_count": 48,
     "metadata": {},
     "output_type": "execute_result"
    }
   ],
   "source": [
    "type(tuple_nama)"
   ]
  },
  {
   "cell_type": "code",
   "execution_count": 49,
   "id": "cf0cf686",
   "metadata": {},
   "outputs": [
    {
     "data": {
      "text/plain": [
       "dict"
      ]
     },
     "execution_count": 49,
     "metadata": {},
     "output_type": "execute_result"
    }
   ],
   "source": [
    "dict_nilai = {'mm': 8, 'biologi':8.5, 'fisika':7}\n",
    "type(dict_nilai)"
   ]
  },
  {
   "cell_type": "code",
   "execution_count": 52,
   "id": "2bb7486d",
   "metadata": {},
   "outputs": [
    {
     "name": "stdout",
     "output_type": "stream",
     "text": [
      "8.5\n"
     ]
    }
   ],
   "source": [
    "print(dict_nilai['biologi'])"
   ]
  },
  {
   "cell_type": "code",
   "execution_count": 53,
   "id": "06122e9e",
   "metadata": {},
   "outputs": [],
   "source": [
    "dict_profil = {'nama':[\"andi\", \"budi\", \"ika\"],\n",
    "              'nilai':[8, 6, 4],\n",
    "              'alamat':[\"jakarta\", \"bandung\", \"surabaya\"]\n",
    "              }"
   ]
  },
  {
   "cell_type": "code",
   "execution_count": 58,
   "id": "dee29f3e",
   "metadata": {},
   "outputs": [
    {
     "name": "stdout",
     "output_type": "stream",
     "text": [
      "surabaya\n"
     ]
    }
   ],
   "source": [
    "print(dict_profil['alamat'][2])"
   ]
  },
  {
   "cell_type": "code",
   "execution_count": null,
   "id": "8367226c",
   "metadata": {},
   "outputs": [],
   "source": []
  }
 ],
 "metadata": {
  "kernelspec": {
   "display_name": "Python 3",
   "language": "python",
   "name": "python3"
  },
  "language_info": {
   "codemirror_mode": {
    "name": "ipython",
    "version": 3
   },
   "file_extension": ".py",
   "mimetype": "text/x-python",
   "name": "python",
   "nbconvert_exporter": "python",
   "pygments_lexer": "ipython3",
   "version": "3.8.10"
  }
 },
 "nbformat": 4,
 "nbformat_minor": 5
}
