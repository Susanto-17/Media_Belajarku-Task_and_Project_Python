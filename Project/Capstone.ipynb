{
 "cells": [
  {
   "cell_type": "markdown",
   "metadata": {},
   "source": [
    "# Capstone Basic Python"
   ]
  },
  {
   "cell_type": "markdown",
   "metadata": {},
   "source": [
    "### 1. Game Tebak Kata"
   ]
  },
  {
   "cell_type": "code",
   "execution_count": 10,
   "metadata": {},
   "outputs": [],
   "source": [
    "class Tebak_Kata:\n",
    "    def __init__(self):\n",
    "        self.kata_rahasia = \"Laptop\"\n",
    "        self.tmp_kata = []\n",
    "        \n",
    "    def jawaban(self, jawab):\n",
    "        if self.kata_rahasia == jawab:\n",
    "            print(\"Jawaban Anda Benar\")\n",
    "        else:\n",
    "            print(\"Jawaban Anda Salah\")\n",
    "        \n",
    "    def convert_kata(self):\n",
    "        for i in range(len(self.kata_rahasia)):\n",
    "            self.tmp_kata.append('_')\n",
    "        return len(self.kata_rahasia)\n",
    "    \n",
    "    def kata_benar(self, char):\n",
    "        for i in range(len(self.kata_rahasia)):\n",
    "            if self.kata_rahasia[i] == char:\n",
    "                self.tmp_kata[i] = char\n",
    "        for i in range(len(self.tmp_kata)):\n",
    "            print(self.tmp_kata[i], end=' ')"
   ]
  },
  {
   "cell_type": "code",
   "execution_count": 11,
   "metadata": {},
   "outputs": [
    {
     "name": "stdout",
     "output_type": "stream",
     "text": [
      "Terdiri dari  6  Kata\n",
      "_ _ _ _ _ _ \n",
      "masukkan character :L\n",
      "L _ _ _ _ _ \n",
      "masukkan character :p\n",
      "L _ p _ _ p \n",
      "masukkan character :a\n",
      "L a p _ _ p \n",
      "masukkan character :t\n",
      "L a p t _ p \n",
      "masukkan character :o\n",
      "L a p t o p \n",
      "\n",
      "Masukkan Jawaban Anda :Laptop\n",
      "Jawaban Anda Benar\n"
     ]
    }
   ],
   "source": [
    "tebak = Tebak_Kata()\n",
    "\n",
    "total_kata = tebak.convert_kata()\n",
    "# print(total_kata)\n",
    "print(\"Terdiri dari \", total_kata, \" Kata\")\n",
    "for i in range(int(total_kata)):\n",
    "    print('_', end=' ')\n",
    "\n",
    "print()\n",
    "\n",
    "# Prediksi per character\n",
    "for i in range(5):\n",
    "    char = input(\"masukkan character :\")\n",
    "    if char == 'x':\n",
    "        break\n",
    "    else:\n",
    "        tebak.kata_benar(char)\n",
    "        print()\n",
    "\n",
    "        \n",
    "# Menebak kata Rahasia\n",
    "print()\n",
    "jawab = input(\"Masukkan Jawaban Anda :\")\n",
    "tebak.jawaban(jawab)"
   ]
  },
  {
   "cell_type": "markdown",
   "metadata": {},
   "source": [
    "### 2. Call me Mr atau Mrs "
   ]
  },
  {
   "cell_type": "code",
   "execution_count": 12,
   "metadata": {},
   "outputs": [],
   "source": [
    "class Biodata:\n",
    "    def __init__(self):\n",
    "        self.list_nama = []\n",
    "        self.list_umur = []\n",
    "        self.list_gender = []\n",
    "        self.list_status = []\n",
    "        self.urut = []\n",
    "    \n",
    "    def tambah_data(self, nama, umur, gender, status):\n",
    "        self.list_nama.append(nama)\n",
    "        self.list_umur.append(umur)\n",
    "        self.list_gender.append(gender)\n",
    "        self.list_status.append(status)\n",
    "    \n",
    "    def urutan_umur(self):\n",
    "        self.list_umur, self.list_nama, self.list_gender, self.list_status = (list(t) for t in zip(*sorted(zip(self.list_umur, self.list_nama,\n",
    "                                                                                             self.list_gender, self.list_status))))\n",
    "    \n",
    "    def cetak(self):\n",
    "        print(self.list_umur)\n",
    "        print(self.list_nama)\n",
    "        print(self.list_gender)\n",
    "        print(self.list_status)\n",
    "    \n",
    "    def call_mr_mrs(self):\n",
    "        for i in range(len(self.list_gender)):\n",
    "            if self.list_gender[i] == \"M\":\n",
    "                self.list_nama[i] = \"Mr \" + self.list_nama[i]\n",
    "            elif self.list_gender[i] == \"F\" and self.list_status[i] == \"Single\":\n",
    "                self.list_nama[i] = \"Miss \" + self.list_nama[i]\n",
    "            elif self.list_gender[i] == \"F\" and self.list_status[i] == \"Married\":\n",
    "                self.list_nama[i] = \"Mrs \" + self.list_nama[i]"
   ]
  },
  {
   "cell_type": "code",
   "execution_count": 13,
   "metadata": {},
   "outputs": [
    {
     "name": "stdout",
     "output_type": "stream",
     "text": [
      "Masukkan nama : Herman\n",
      "Masukkan umur : 30\n",
      "Masukkan gender : M\n",
      "Masukkan status : Married\n",
      "-------------------------------------\n",
      "Masukkan nama : Grace\n",
      "Masukkan umur : 25\n",
      "Masukkan gender : F\n",
      "Masukkan status : Married\n",
      "-------------------------------------\n",
      "Masukkan nama : Anton\n",
      "Masukkan umur : 23\n",
      "Masukkan gender : M\n",
      "Masukkan status : Single\n",
      "-------------------------------------\n",
      "['23', '25', '30']\n",
      "['Mr Anton', 'Mrs Grace', 'Mr Herman']\n",
      "['M', 'F', 'M']\n",
      "['Single', 'Married', 'Married']\n"
     ]
    }
   ],
   "source": [
    "bio = Biodata()\n",
    "\n",
    "for i in range(3):\n",
    "    nama = input(\"Masukkan nama : \")\n",
    "    umur = input(\"Masukkan umur : \")\n",
    "    gender = input(\"Masukkan gender : \")\n",
    "    status = input(\"Masukkan status : \")\n",
    "    bio.tambah_data(nama, umur, gender, status)\n",
    "    print(\"-------------------------------------\")\n",
    "\n",
    "bio.call_mr_mrs()\n",
    "bio.urutan_umur()\n",
    "bio.cetak()"
   ]
  },
  {
   "cell_type": "markdown",
   "metadata": {},
   "source": [
    "### 3. Sederhanakan Bilangan Pecahan"
   ]
  },
  {
   "cell_type": "code",
   "execution_count": 14,
   "metadata": {},
   "outputs": [
    {
     "name": "stdout",
     "output_type": "stream",
     "text": [
      "Masukkan pembilang :2\n",
      "Masukkan penyebut :3\n",
      "Masukkan pembilang :3\n",
      "Masukkan penyebut :5\n",
      "6 / 15\n",
      "2.0 / 5.0\n",
      "2 / 5\n"
     ]
    }
   ],
   "source": [
    "pembilang = int(input(\"Masukkan pembilang :\"))\n",
    "penyebut = int(input(\"Masukkan penyebut :\"))\n",
    "\n",
    "pembilang2 = int(input(\"Masukkan pembilang :\"))\n",
    "penyebut2 = int(input(\"Masukkan penyebut :\"))\n",
    "\n",
    "total_pembilang = pembilang * pembilang2\n",
    "total_penyebut = penyebut * penyebut2\n",
    "\n",
    "sign = True\n",
    "\n",
    "while(sign):\n",
    "    print(total_pembilang, \"/\", total_penyebut)\n",
    "    if total_pembilang % 2 == 0 and total_penyebut % 2 == 0:\n",
    "        total_pembilang = total_pembilang / 2\n",
    "        total_penyebut = total_penyebut / 2\n",
    "    elif total_pembilang % 3 == 0 and total_penyebut % 3 == 0:\n",
    "        total_pembilang = total_pembilang / 3\n",
    "        total_penyebut = total_penyebut / 3\n",
    "    elif total_pembilang % 5 == 0 and total_penyebut % 5 == 0:\n",
    "        total_pembilang = total_pembilang / 5\n",
    "        total_penyebut = total_penyebut / 5\n",
    "    elif total_pembilang % 7 == 0 and total_penyebut % 7 == 0:\n",
    "        total_pembilang = total_pembilang / 7\n",
    "        total_penyebut = total_penyebut / 7\n",
    "    else:\n",
    "        sign = False\n",
    "    \n",
    "\n",
    "print(int(total_pembilang), \"/\", int(total_penyebut))"
   ]
  },
  {
   "cell_type": "markdown",
   "metadata": {},
   "source": [
    "##### "
   ]
  }
 ],
 "metadata": {
  "kernelspec": {
   "display_name": "Python 3",
   "language": "python",
   "name": "python3"
  },
  "language_info": {
   "codemirror_mode": {
    "name": "ipython",
    "version": 3
   },
   "file_extension": ".py",
   "mimetype": "text/x-python",
   "name": "python",
   "nbconvert_exporter": "python",
   "pygments_lexer": "ipython3",
   "version": "3.8.10"
  }
 },
 "nbformat": 4,
 "nbformat_minor": 4
}
